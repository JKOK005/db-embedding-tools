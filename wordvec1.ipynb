{
 "cells": [
  {
   "cell_type": "code",
   "execution_count": 387,
   "metadata": {},
   "outputs": [
    {
     "name": "stdout",
     "output_type": "stream",
     "text": [
      "0.0\n",
      "Word2Vec(vocab=171557, size=25, alpha=0.025)\n"
     ]
    }
   ],
   "source": [
    "from gensim.models import Word2Vec\n",
    "from utils.utils import *\n",
    "model_dir = \"/data/pari/embeddings/word2vec/\"\n",
    "# model_name = model_dir + \"all_attributes.bin\"\n",
    "# model_name = model_dir + \"all_attributes_split_words.bin\"\n",
    "#name = \"preprocessed-words-model.bin\"\n",
    "#name = \"joined-tables-half.bin\"\n",
    "#model_name = model_dir + \"joined-correlated-2queries-test.bin\"\n",
    "#model_name = model_dir + \"joined-correlated-pair-splitwords.bin\"\n",
    "#model_name = model_dir + 'joined-correlated-pair-nosplit-exclude-the-exclude-nums.bin'\n",
    "\n",
    "# new ones: no pairs, no numbers,articles.\n",
    "#name = model_dir + \"all-w2v-nopairs25.bin\"\n",
    "#model_name = model_dir + \"all-fast-rs-nopairs.bin\"\n",
    "#model_name = model_dir + \"all-fast-rs-nopairs50.bin\"\n",
    "#name = \"all-fast-rs-nopairs100.bin\"\n",
    "#name = \"new-wv-nopairs25.bin\"\n",
    "#name = \"new-ft-nopairs-25.bin\"\n",
    "#name = \"new-wv-nopairs-25.bin\"   # actually 100 again\n",
    "name = \"new-wv-nopairs-25.bin\"\n",
    "model_name = model_dir + name\n",
    "\n",
    "\n",
    "model = Word2Vec.load(model_name)\n",
    "wv = model.wv\n",
    "print(model.get_latest_training_loss())\n",
    "print(model)\n",
    "del model"
   ]
  },
  {
   "cell_type": "code",
   "execution_count": 372,
   "metadata": {},
   "outputs": [
    {
     "data": {
      "text/plain": [
       "72441"
      ]
     },
     "execution_count": 372,
     "metadata": {},
     "output_type": "execute_result"
    }
   ],
   "source": [
    "wv.vocab[\"action\"].count"
   ]
  },
  {
   "cell_type": "code",
   "execution_count": 373,
   "metadata": {},
   "outputs": [
    {
     "data": {
      "text/plain": [
       "[('drama', 0.914253830909729),\n",
       " ('documentary', 0.9071424603462219),\n",
       " ('short', 0.8917562961578369),\n",
       " ('crime', 0.8886418342590332),\n",
       " ('action', 0.8749061226844788),\n",
       " ('comedy', 0.8725056648254395),\n",
       " ('animation', 0.8706954121589661),\n",
       " ('thriller', 0.8695645332336426),\n",
       " ('fantasy', 0.8602301478385925),\n",
       " ('adventure', 0.8575268983840942)]"
      ]
     },
     "execution_count": 373,
     "metadata": {},
     "output_type": "execute_result"
    }
   ],
   "source": [
    "wv.most_similar(\"romance\") "
   ]
  },
  {
   "cell_type": "code",
   "execution_count": null,
   "metadata": {},
   "outputs": [],
   "source": []
  },
  {
   "cell_type": "code",
   "execution_count": 374,
   "metadata": {},
   "outputs": [
    {
     "data": {
      "text/plain": [
       "[('scifi', 0.9375048875808716),\n",
       " ('thriller', 0.9191172122955322),\n",
       " ('documentary', 0.9140868186950684),\n",
       " ('sport', 0.9120087623596191),\n",
       " ('animation', 0.9096377491950989),\n",
       " ('drama', 0.8985782861709595),\n",
       " ('fantasy', 0.8938473463058472),\n",
       " ('short', 0.8921279311180115),\n",
       " ('horror', 0.8879369497299194),\n",
       " ('adventure', 0.8765695691108704)]"
      ]
     },
     "execution_count": 374,
     "metadata": {},
     "output_type": "execute_result"
    }
   ],
   "source": [
    "wv.most_similar(\"action\")"
   ]
  },
  {
   "cell_type": "code",
   "execution_count": 375,
   "metadata": {},
   "outputs": [
    {
     "data": {
      "text/plain": [
       "0.513244"
      ]
     },
     "execution_count": 375,
     "metadata": {},
     "output_type": "execute_result"
    }
   ],
   "source": [
    "wv.similarity(\"france\", \"china\")"
   ]
  },
  {
   "cell_type": "code",
   "execution_count": 376,
   "metadata": {},
   "outputs": [
    {
     "data": {
      "text/plain": [
       "[('birth', 0.7333430647850037),\n",
       " ('construcción', 0.7262499928474426),\n",
       " ('21211', 0.7208647131919861),\n",
       " ('0002302', 0.7198203802108765),\n",
       " ('m', 0.7148832082748413),\n",
       " ('0000011201', 0.7094845771789551),\n",
       " ('31121', 0.6951619982719421),\n",
       " ('0001221', 0.6930205225944519),\n",
       " ('0000001221', 0.6866918802261353),\n",
       " ('21115', 0.6863368153572083)]"
      ]
     },
     "execution_count": 376,
     "metadata": {},
     "output_type": "execute_result"
    }
   ],
   "source": [
    "wv.most_similar(positive=[\"actor\"])"
   ]
  },
  {
   "cell_type": "code",
   "execution_count": 377,
   "metadata": {},
   "outputs": [
    {
     "data": {
      "text/plain": [
       "-0.13980792"
      ]
     },
     "execution_count": 377,
     "metadata": {},
     "output_type": "execute_result"
    }
   ],
   "source": [
    "wv.similarity(\"french\", \"romance\")"
   ]
  },
  {
   "cell_type": "code",
   "execution_count": 378,
   "metadata": {},
   "outputs": [
    {
     "name": "stdout",
     "output_type": "stream",
     "text": [
      "marvelcomics, dccomics: 0.3720264136791229\n"
     ]
    }
   ],
   "source": [
    "SIMILARITY_PAIRS = [(\"marvelcomics\", \"dccomics\")]\n",
    "for w1, w2 in SIMILARITY_PAIRS:\n",
    "    print(\"{}, {}: {}\".format(w1, w2, wv.similarity(w1,w2)))"
   ]
  },
  {
   "cell_type": "code",
   "execution_count": 379,
   "metadata": {},
   "outputs": [
    {
     "name": "stdout",
     "output_type": "stream",
     "text": [
      "superhero: dc: 0.33957967162132263; marvel: 0.6041302680969238\n",
      "spider: dc: 0.39398908615112305; marvel: 0.4244384765625\n",
      "avengers: dc: 0.5109122395515442; marvel: 0.5262576341629028\n",
      "spiderman: dc: 0.4663293957710266; marvel: 0.6336172819137573\n",
      "xmen: dc: 0.5411651730537415; marvel: 0.519268274307251\n",
      "iron: dc: 0.41363033652305603; marvel: 0.22495481371879578\n",
      "ironman: dc: 0.43240252137184143; marvel: 0.43571218848228455\n",
      "ant: dc: 0.17740608751773834; marvel: -0.17393340170383453\n",
      "antman: dc: 0.03923962637782097; marvel: -0.20998671650886536\n",
      "superman: dc: 0.4572213590145111; marvel: 0.3781821131706238\n",
      "batman: dc: 0.3743654489517212; marvel: 0.40617236495018005\n",
      "dark: dc: 0.41004765033721924; marvel: 0.2605830132961273\n",
      "action: dc: 0.25984981656074524; marvel: 0.16205310821533203\n"
     ]
    }
   ],
   "source": [
    "# marvel vs dc comparison\n",
    "#COMP_WORDS = [\"lantern\", \"wonder\", \"titan\"]\n",
    "COMP_WORDS = [\"superhero\",\"spider\", \"avengers\",\"spiderman\", \"xmen\", \"iron\", \"ironman\", \"ant\", \"antman\", \"superman\", \"batman\", \"dark\", \"action\"]\n",
    "for w in COMP_WORDS:\n",
    "    try:\n",
    "        dc = wv.similarity(w, \"dccomics\")\n",
    "        marvel = wv.similarity(w, \"marvelcomics\")\n",
    "        print(\"{}: dc: {}; marvel: {}\".format(w, dc, marvel))\n",
    "    except:\n",
    "        continue\n"
   ]
  },
  {
   "cell_type": "code",
   "execution_count": 380,
   "metadata": {},
   "outputs": [
    {
     "name": "stdout",
     "output_type": "stream",
     "text": [
      "spiderman\n",
      "('transformers', 0.8392826914787292)\n",
      "('uôzu', 0.8151938915252686)\n",
      "('avengers', 0.8110901713371277)\n",
      "('bîsuto', 0.8083809614181519)\n",
      "('suriyothai', 0.8006095886230469)\n",
      "marvelcomics\n",
      "('orzammar', 0.8361719846725464)\n",
      "('q6562', 0.8101211786270142)\n",
      "('dorman', 0.7730966806411743)\n",
      "('qarie', 0.754351019859314)\n",
      "('marvel', 0.742834746837616)\n",
      "dccomics\n",
      "('koihime', 0.6922717690467834)\n",
      "('genetics', 0.6901441216468811)\n",
      "('q5153', 0.6891815066337585)\n",
      "('gein', 0.6856581568717957)\n",
      "('gc', 0.6852770447731018)\n"
     ]
    }
   ],
   "source": [
    "MOST_SIMILAR = [\"spiderman\", \"marvelcomics\", \"dccomics\"]\n",
    "for w in MOST_SIMILAR:\n",
    "    print(w)\n",
    "    most_similar = wv.most_similar(w)\n",
    "    for i in range(5):\n",
    "        print(most_similar[i])"
   ]
  },
  {
   "cell_type": "code",
   "execution_count": 381,
   "metadata": {},
   "outputs": [
    {
     "data": {
      "text/plain": [
       "[]"
      ]
     },
     "execution_count": 381,
     "metadata": {},
     "output_type": "execute_result"
    }
   ],
   "source": [
    "get_substr_words(wv.index2word, \"10,000\")"
   ]
  },
  {
   "cell_type": "code",
   "execution_count": 382,
   "metadata": {},
   "outputs": [
    {
     "data": {
      "text/plain": [
       "0.14539832"
      ]
     },
     "execution_count": 382,
     "metadata": {},
     "output_type": "execute_result"
    }
   ],
   "source": [
    "wv.similarity(\"lantern\", \"dccomics\")"
   ]
  },
  {
   "cell_type": "code",
   "execution_count": 383,
   "metadata": {},
   "outputs": [
    {
     "data": {
      "text/plain": [
       "True"
      ]
     },
     "execution_count": 383,
     "metadata": {},
     "output_type": "execute_result"
    }
   ],
   "source": [
    "\"companies\" in wv"
   ]
  },
  {
   "cell_type": "code",
   "execution_count": 384,
   "metadata": {},
   "outputs": [
    {
     "data": {
      "text/plain": [
       "0.2603236"
      ]
     },
     "execution_count": 384,
     "metadata": {},
     "output_type": "execute_result"
    }
   ],
   "source": [
    "wv.similarity(\"fox\",\"home\")"
   ]
  },
  {
   "cell_type": "code",
   "execution_count": null,
   "metadata": {},
   "outputs": [],
   "source": []
  }
 ],
 "metadata": {
  "kernelspec": {
   "display_name": "Python 3",
   "language": "python",
   "name": "python3"
  },
  "language_info": {
   "codemirror_mode": {
    "name": "ipython",
    "version": 3
   },
   "file_extension": ".py",
   "mimetype": "text/x-python",
   "name": "python",
   "nbconvert_exporter": "python",
   "pygments_lexer": "ipython3",
   "version": "3.5.2"
  }
 },
 "nbformat": 4,
 "nbformat_minor": 2
}
